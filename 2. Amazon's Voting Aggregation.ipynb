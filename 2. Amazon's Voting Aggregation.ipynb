{
 "cells": [
  {
   "cell_type": "markdown",
   "metadata": {},
   "source": [
    "# Voting Aggragation"
   ]
  },
  {
   "cell_type": "markdown",
   "metadata": {},
   "source": [
    "## Introduction\n",
    "\n",
    "Vote aggreagation often isn't as simple taking the average as I naively thought. On many platforms (Amazon, Netflix) ratings are a high stakes business. It makes or breaks businesses. Therefore we need to design a vote aggregation algorithm that is:\n",
    "- robust to gaming\n",
    "- uses an appropriate moving average window\n",
    "- leverages the wisdom of the crowd to come up single measure of \"value\"."
   ]
  },
  {
   "cell_type": "markdown",
   "metadata": {},
   "source": [
    "## Positional voting schemes\n",
    "\n",
    "These are the most common types of voting schemes:\n",
    "\n",
    "TODO: brief intuition on these.\n",
    "1. Plurality Voting\n",
    "2. Borda Count\n",
    "3. Condorcet Voting\n"
   ]
  },
  {
   "cell_type": "markdown",
   "metadata": {},
   "source": [
    "## Adaptive Voting Scheme\n",
    "\n"
   ]
  },
  {
   "cell_type": "markdown",
   "metadata": {},
   "source": [
    "TODO covert mathmatica algorithm to python"
   ]
  }
 ],
 "metadata": {
  "kernelspec": {
   "display_name": "Python 3",
   "language": "python",
   "name": "python3"
  },
  "language_info": {
   "codemirror_mode": {
    "name": "ipython",
    "version": 3
   },
   "file_extension": ".py",
   "mimetype": "text/x-python",
   "name": "python",
   "nbconvert_exporter": "python",
   "pygments_lexer": "ipython3",
   "version": "3.5.2"
  }
 },
 "nbformat": 4,
 "nbformat_minor": 0
}
